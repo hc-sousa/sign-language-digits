{
 "cells": [
  {
   "cell_type": "markdown",
   "metadata": {},
   "source": [
    "# Identification of digits from sign language images "
   ]
  },
  {
   "cell_type": "code",
   "execution_count": 26,
   "metadata": {},
   "outputs": [],
   "source": [
    "# Ignore warnings\n",
    "import warnings\n",
    "warnings.filterwarnings('ignore')"
   ]
  },
  {
   "cell_type": "code",
   "execution_count": 27,
   "metadata": {},
   "outputs": [],
   "source": [
    "# Import relevant libraries\n",
    "import os\n",
    "import cv2\n",
    "import numpy as np\n",
    "import matplotlib.pyplot as plt\n",
    "from keras.utils import to_categorical\n",
    "from sklearn.model_selection import train_test_split"
   ]
  },
  {
   "cell_type": "code",
   "execution_count": 28,
   "metadata": {},
   "outputs": [],
   "source": [
    "# Image Settings\n",
    "img_size = 64\n",
    "grayscale_images = True\n",
    "num_class = 10\n",
    "test_size = 0.2"
   ]
  },
  {
   "cell_type": "code",
   "execution_count": 29,
   "metadata": {},
   "outputs": [],
   "source": [
    "# Define get images function\n",
    "def get_img(data_path):\n",
    "    # Getting image array from path:\n",
    "    img = cv2.imread(data_path)\n",
    "    img = cv2.resize(img, (img_size, img_size, 1 if grayscale_images else 3))\n",
    "    return img"
   ]
  },
  {
   "cell_type": "markdown",
   "metadata": {},
   "source": [
    "## Analyze dataset"
   ]
  },
  {
   "cell_type": "code",
   "execution_count": 30,
   "metadata": {},
   "outputs": [
    {
     "name": "stdout",
     "output_type": "stream",
     "text": [
      "Number of samples for digit 0: 205\n",
      "Number of samples for digit 1: 206\n",
      "Number of samples for digit 2: 206\n",
      "Number of samples for digit 3: 206\n",
      "Number of samples for digit 4: 207\n",
      "Number of samples for digit 5: 207\n",
      "Number of samples for digit 6: 207\n",
      "Number of samples for digit 7: 206\n",
      "Number of samples for digit 8: 208\n",
      "Number of samples for digit 9: 204\n"
     ]
    },
    {
     "data": {
      "image/png": "[encoded data removed]",
      "text/plain": [
       "<Figure size 640x480 with 1 Axes>"
      ]
     },
     "metadata": {},
     "output_type": "display_data"
    }
   ],
   "source": [
    "# Plot the number of samples for each sign languagem digit\n",
    "dataset_path = \"dataset/raw/\"\n",
    "data_distribution = {}\n",
    "\n",
    "labels = os.listdir(dataset_path)  # Getting labels\n",
    "labels.sort()  # Sorting labels\n",
    "for i, label in enumerate(labels):\n",
    "    data_path = dataset_path + label\n",
    "    for img in os.listdir(data_path):\n",
    "        img_path = data_path + \"/\" + img\n",
    "        img_read = cv2.imread(img_path)\n",
    "\n",
    "        if label in data_distribution:\n",
    "            data_distribution[label].append(img_read)\n",
    "        else:\n",
    "            data_distribution[label] = [img_read]\n",
    "    \n",
    "\n",
    "for label in data_distribution:\n",
    "    print(\"Number of samples for digit \" + label + \": \" + str(len(data_distribution[label])))\n",
    "\n",
    "#TODO: Plot a better histogram (label each bar with the total number of samples)\n",
    "counts, edges, bars = plt.hist([[key]*len(data_distribution[key]) for key in data_distribution.keys()], bins=10)\n",
    "plt.show()\n",
    "        "
   ]
  },
  {
   "cell_type": "markdown",
   "metadata": {},
   "source": [
    "- We have a pretty balanced dataset"
   ]
  },
  {
   "attachments": {},
   "cell_type": "markdown",
   "metadata": {},
   "source": [
    "## Data Preprocessing \n",
    "\n",
    "For the preprocessing we will be resizing and converting each image to grayscale. We will also be flatening them"
   ]
  },
  {
   "cell_type": "code",
   "execution_count": 31,
   "metadata": {},
   "outputs": [],
   "source": [
    "# Resize function\n",
    "def resize(img):\n",
    "    width = 50\n",
    "    height = 50\n",
    "    dim = (width, height)\n",
    "\n",
    "    resized = cv2.resize(img, dim, interpolation = cv2.INTER_AREA)\n",
    "    return resized\n",
    "\n",
    "# Convert image to grayscale\n",
    "def grayscale(img):\n",
    "    gray = cv2.cvtColor(img, cv2.COLOR_BGR2GRAY)\n",
    "    return gray\n",
    "\n",
    "# Flatten image\n",
    "def flatten(img):\n",
    "    data = np.array(img)\n",
    "\n",
    "    flattened = data.flatten()\n",
    "    return flattened"
   ]
  },
  {
   "cell_type": "code",
   "execution_count": 32,
   "metadata": {},
   "outputs": [],
   "source": [
    "import pickle\n",
    "def save_model(filename, model):\n",
    "    pickle.dump(model, open(\"models/\"+filename, 'wb'))\n",
    "\n",
    "def load_model(filename):\n",
    "    return pickle.load(open(\"models/\"+filename, 'rb'))\n"
   ]
  },
  {
   "cell_type": "code",
   "execution_count": 33,
   "metadata": {},
   "outputs": [],
   "source": [
    "images = []\n",
    "labels = []\n",
    "\n",
    "for label in data_distribution:\n",
    "    for img in data_distribution[label]:\n",
    "        img_resized = resize(img)\n",
    "        img_grayscale = grayscale(img_resized)\n",
    "        img_flattened = flatten(img_grayscale)\n",
    "\n",
    "        images.append(img_flattened)\n",
    "        labels.append(label)\n",
    "images = np.asarray(images)\n",
    "labels = np.asarray(labels)"
   ]
  },
  {
   "cell_type": "code",
   "execution_count": 34,
   "metadata": {},
   "outputs": [
    {
     "name": "stdout",
     "output_type": "stream",
     "text": [
      "(1649, 2500) (1649,)\n",
      "(413, 2500) (413,)\n"
     ]
    }
   ],
   "source": [
    "# Split data into test and training sets\n",
    "x_train, x_test, y_train, y_test = train_test_split(images, labels, test_size=0.2, random_state=58)   \n",
    "\n",
    "print(x_train.shape, y_train.shape)\n",
    "print(x_test.shape, y_test.shape)"
   ]
  },
  {
   "cell_type": "code",
   "execution_count": 35,
   "metadata": {},
   "outputs": [
    {
     "name": "stdout",
     "output_type": "stream",
     "text": [
      "Test\n",
      "0.7699757869249395\n",
      "Train\n",
      "0.9672528805336568\n"
     ]
    }
   ],
   "source": [
    "# Logistic Regression\n",
    "\n",
    "from sklearn.linear_model import LogisticRegression\n",
    "# all parameters not specified are set to their defaults\n",
    "logisticRegr = LogisticRegression()\n",
    "logisticRegr.fit(x_train, y_train)\n",
    "\n",
    "save_model(\"logistic_regression.sav\", logisticRegr)\n",
    "\n",
    "x_test[0].reshape(1,-1)\n",
    "logisticRegr.predict(x_test[0].reshape(1,-1))\n",
    "predictions = logisticRegr.predict(x_test)\n",
    "score = logisticRegr.score(x_test, y_test)\n",
    "scoretr= logisticRegr.score(x_train, y_train)\n",
    "print(\"Test\")\n",
    "print(score)\n",
    "print(\"Train\")\n",
    "print(scoretr)"
   ]
  },
  {
   "cell_type": "code",
   "execution_count": 36,
   "metadata": {},
   "outputs": [
    {
     "name": "stdout",
     "output_type": "stream",
     "text": [
      "accuracy of the model is:\n",
      "Test  0.5665859564164649\n",
      "Train 1.0\n"
     ]
    }
   ],
   "source": [
    "# Decision Tree Model\n",
    "from sklearn import tree\n",
    "clf = tree.DecisionTreeClassifier()\n",
    "clf = clf.fit(x_train, y_train)\n",
    "\n",
    "save_model(\"decision_tree.sav\", clf)\n",
    "\n",
    "y_pred_dt=clf.predict(x_test)\n",
    "y_train_score_dt=clf.predict(x_train)\n",
    "from sklearn.metrics import accuracy_score\n",
    "print(\"accuracy of the model is:\\nTest \", accuracy_score(y_test, y_pred_dt, normalize=True, sample_weight=None))\n",
    "print('Train',accuracy_score(y_train, y_train_score_dt, normalize=True, sample_weight=None))"
   ]
  },
  {
   "cell_type": "code",
   "execution_count": 37,
   "metadata": {},
   "outputs": [
    {
     "name": "stdout",
     "output_type": "stream",
     "text": [
      "accuracy of the model is:\n",
      "Test  0.801452784503632\n",
      "Train 1.0\n"
     ]
    }
   ],
   "source": [
    "# Random Forest Classifier\n",
    "from sklearn.ensemble import RandomForestClassifier\n",
    "clf_rft = RandomForestClassifier(n_estimators=100, max_depth=15,random_state=0)\n",
    "clf_rft = clf_rft.fit(x_train, y_train)\n",
    "\n",
    "save_model(\"random_forest.sav\", clf_rft)\n",
    "\n",
    "y_pred_rft=clf_rft.predict(x_test)\n",
    "y_train_score_rft=clf_rft.predict(x_train)\n",
    "from sklearn.metrics import accuracy_score\n",
    "print(\"accuracy of the model is:\\nTest \", accuracy_score(y_test, y_pred_rft, normalize=True, sample_weight=None))\n",
    "print(\"Train\",accuracy_score(y_train, y_train_score_rft, normalize=True, sample_weight=None))"
   ]
  },
  {
   "cell_type": "code",
   "execution_count": 38,
   "metadata": {},
   "outputs": [
    {
     "name": "stdout",
     "output_type": "stream",
     "text": [
      "accuracy of the model is:\n",
      "Test  0.6222760290556901\n",
      "Train 0.6694966646452395\n"
     ]
    }
   ],
   "source": [
    "# Naive Bayes Classifier\n",
    "from sklearn.metrics import accuracy_score\n",
    "from sklearn.naive_bayes import GaussianNB \n",
    "gnb = GaussianNB() \n",
    "gnb.fit(x_train, y_train)\n",
    "\n",
    "save_model(\"naive_bayes.sav\", gnb)\n",
    "\n",
    "y_pred_gnb=gnb.predict(x_test)\n",
    "y_train_score_gnb=gnb.predict(x_train)\n",
    "print(\"accuracy of the model is:\\nTest \", accuracy_score(y_test, y_pred_gnb, normalize=True, sample_weight=None))\n",
    "print(\"Train\",accuracy_score(y_train, y_train_score_gnb, normalize=True, sample_weight=None))"
   ]
  }
 ],
 "metadata": {
  "kernelspec": {
   "display_name": "Python 3",
   "language": "python",
   "name": "python3"
  },
  "language_info": {
   "codemirror_mode": {
    "name": "ipython",
    "version": 3
   },
   "file_extension": ".py",
   "mimetype": "text/x-python",
   "name": "python",
   "nbconvert_exporter": "python",
   "pygments_lexer": "ipython3",
   "version": "3.10.10"
  },
  "orig_nbformat": 4
 },
 "nbformat": 4,
 "nbformat_minor": 2
}
