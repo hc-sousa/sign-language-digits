{
 "cells": [
  {
   "cell_type": "markdown",
   "metadata": {},
   "source": [
    "# Identification of digits from sign language images "
   ]
  },
  {
   "cell_type": "code",
   "execution_count": 4,
   "metadata": {},
   "outputs": [],
   "source": [
    "# Ignore warnings\n",
    "import warnings\n",
    "warnings.filterwarnings('ignore')"
   ]
  },
  {
   "cell_type": "code",
   "execution_count": 5,
   "metadata": {},
   "outputs": [],
   "source": [
    "# Import relevant libraries\n",
    "import os\n",
    "import cv2\n",
    "import numpy as np\n",
    "from keras.utils import to_categorical\n",
    "from sklearn.model_selection import train_test_split"
   ]
  },
  {
   "cell_type": "code",
   "execution_count": 6,
   "metadata": {},
   "outputs": [],
   "source": [
    "# Image Settings\n",
    "img_size = 64\n",
    "grayscale_images = True\n",
    "num_class = 10\n",
    "test_size = 0.2"
   ]
  },
  {
   "cell_type": "code",
   "execution_count": null,
   "metadata": {},
   "outputs": [],
   "source": [
    "# Define get images function\n",
    "def get_img(data_path):\n",
    "    # Getting image array from path:\n",
    "    img = cv2.imread(data_path)\n",
    "    img = cv2.resize(img, (img_size, img_size, 1 if grayscale_images else 3))\n",
    "    return img"
   ]
  },
  {
   "cell_type": "code",
   "execution_count": 10,
   "metadata": {},
   "outputs": [],
   "source": [
    "# Process dataset\n",
    "def get_dataset(dataset_path='dataset/'):\n",
    "    # Getting all data from data path:\n",
    "    try:\n",
    "        X_train = np.load(dataset_path+'train.npy')\n",
    "        Y_train = np.load(dataset_path+'test.npy')\n",
    "    except:\n",
    "        labels = os.listdir(dataset_path)  # Geting labels\n",
    "        X_train = []\n",
    "        Y_train = []\n",
    "        for i, label in enumerate(labels):\n",
    "            datas_path = dataset_path + label\n",
    "            for data in os.listdir(datas_path):\n",
    "                img = get_img(datas_path + '/' + data)\n",
    "                X_train.append(img)\n",
    "                Y_train.append(i)\n",
    "        X_train = 1 - np.array(X_train).astype('float32') / 255.\n",
    "        Y_train = np.array(Y_train).astype('float32')\n",
    "        Y_train = to_categorical(Y_train, num_class)\n",
    "        if not os.path.exists(dataset_path):\n",
    "            os.makedirs(dataset_path)\n",
    "        np.save(dataset_path+'train.npy', X_train)\n",
    "        np.save(dataset_path+'test.npy', Y_train)\n",
    "    X_train, X_test, Y_train, Y_test = train_test_split(X_train, Y_train, test_size=test_size, random_state=42)\n",
    "    return X_train, X_test, Y_train, Y_test"
   ]
  },
  {
   "cell_type": "code",
   "execution_count": 11,
   "metadata": {},
   "outputs": [
    {
     "name": "stdout",
     "output_type": "stream",
     "text": [
      "1649\n",
      "413\n",
      "1649\n",
      "413\n"
     ]
    }
   ],
   "source": [
    "# Test dataset processing\n",
    "X_train, X_test, Y_train, Y_test = get_dataset()\n",
    "print(len(X_train))\n",
    "print(len(X_test))\n",
    "print(len(Y_train))\n",
    "print(len(Y_test))"
   ]
  }
 ],
 "metadata": {
  "kernelspec": {
   "display_name": "Python 3",
   "language": "python",
   "name": "python3"
  },
  "language_info": {
   "codemirror_mode": {
    "name": "ipython",
    "version": 3
   },
   "file_extension": ".py",
   "mimetype": "text/x-python",
   "name": "python",
   "nbconvert_exporter": "python",
   "pygments_lexer": "ipython3",
   "version": "3.8.10"
  },
  "orig_nbformat": 4
 },
 "nbformat": 4,
 "nbformat_minor": 2
}
